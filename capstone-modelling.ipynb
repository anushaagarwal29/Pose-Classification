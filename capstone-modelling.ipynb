{
 "cells": [
  {
   "cell_type": "markdown",
   "metadata": {},
   "source": [
    "### III: Modelling & Tuning"
   ]
  },
  {
   "cell_type": "markdown",
   "metadata": {},
   "source": [
    "In this notebook, once done with collecting the video and image data, transforming and processing them to coordinates, and doing EDA, we can now proceed with training our binary classification model (define whether good or bad posture). We will explore different type of models, evaluate them and then do hyperparameter tuning to achieve the best scores."
   ]
  },
  {
   "cell_type": "code",
   "execution_count": 1,
   "metadata": {},
   "outputs": [],
   "source": [
    "# problem statement - target audience: novice runners\n",
    "# solution - EDA - bring the audience closer to my dataset - 1) what classes we're working with, 2) visual analysis (images / footage on good and bad form), 3) key differentiators of fgood and bad form\n",
    "# impact - demo, recommendations, future work, scalability\n",
    "\n",
    "# proportion of videos with good / bad form"
   ]
  },
  {
   "cell_type": "code",
   "execution_count": 5,
   "metadata": {},
   "outputs": [
    {
     "name": "stdout",
     "output_type": "stream",
     "text": [
      "Requirement already satisfied: scikit-learn==1.2.2 in /Users/anushaagarwal/anaconda3/lib/python3.11/site-packages (1.2.2)\r\n",
      "Requirement already satisfied: numpy>=1.17.3 in /Users/anushaagarwal/anaconda3/lib/python3.11/site-packages (from scikit-learn==1.2.2) (1.24.3)\r\n",
      "Requirement already satisfied: scipy>=1.3.2 in /Users/anushaagarwal/anaconda3/lib/python3.11/site-packages (from scikit-learn==1.2.2) (1.10.1)\r\n",
      "Requirement already satisfied: joblib>=1.1.1 in /Users/anushaagarwal/anaconda3/lib/python3.11/site-packages (from scikit-learn==1.2.2) (1.2.0)\r\n",
      "Requirement already satisfied: threadpoolctl>=2.0.0 in /Users/anushaagarwal/anaconda3/lib/python3.11/site-packages (from scikit-learn==1.2.2) (2.2.0)\r\n"
     ]
    }
   ],
   "source": [
    "!pip install scikit-learn==1.2.2"
   ]
  },
  {
   "cell_type": "code",
   "execution_count": 6,
   "metadata": {},
   "outputs": [],
   "source": [
    "import pandas as pd\n",
    "import seaborn as sns\n",
    "import matplotlib.pyplot as plt\n",
    "\n",
    "\n",
    "from sklearn.pipeline import Pipeline\n",
    "from sklearn.preprocessing import StandardScaler\n",
    "from sklearn.model_selection import train_test_split, cross_val_score, GridSearchCV, KFold\n",
    "from sklearn.metrics import classification_report, roc_auc_score, confusion_matrix, make_scorer, roc_curve, auc, ConfusionMatrixDisplay\n",
    "from sklearn.linear_model import LogisticRegression\n",
    "from sklearn.ensemble import RandomForestClassifier, AdaBoostClassifier\n",
    "from sklearn.tree import DecisionTreeClassifier\n",
    "from sklearn.svm import SVC\n",
    "from sklearn.naive_bayes import GaussianNB\n",
    "from sklearn.neighbors import KNeighborsClassifier\n",
    "\n",
    "\n",
    "from imblearn.over_sampling import SMOTE\n",
    "from imblearn.under_sampling import TomekLinks\n",
    "from imblearn.combine import SMOTETomek\n",
    "from imblearn.pipeline import Pipeline as ImbPipeline\n",
    "\n",
    "# from lightgbm import LGBMClassifier\n",
    "from xgboost import XGBClassifier\n",
    "\n",
    "import pickle"
   ]
  },
  {
   "cell_type": "code",
   "execution_count": 7,
   "metadata": {},
   "outputs": [
    {
     "data": {
      "text/html": [
       "<div>\n",
       "<style scoped>\n",
       "    .dataframe tbody tr th:only-of-type {\n",
       "        vertical-align: middle;\n",
       "    }\n",
       "\n",
       "    .dataframe tbody tr th {\n",
       "        vertical-align: top;\n",
       "    }\n",
       "\n",
       "    .dataframe thead th {\n",
       "        text-align: right;\n",
       "    }\n",
       "</style>\n",
       "<table border=\"1\" class=\"dataframe\">\n",
       "  <thead>\n",
       "    <tr style=\"text-align: right;\">\n",
       "      <th></th>\n",
       "      <th>class</th>\n",
       "      <th>x1</th>\n",
       "      <th>y1</th>\n",
       "      <th>z1</th>\n",
       "      <th>v1</th>\n",
       "      <th>x2</th>\n",
       "      <th>y2</th>\n",
       "      <th>z2</th>\n",
       "      <th>v2</th>\n",
       "      <th>x3</th>\n",
       "      <th>...</th>\n",
       "      <th>v33</th>\n",
       "      <th>good_posture</th>\n",
       "      <th>left_EyeSH</th>\n",
       "      <th>right_EyeSH</th>\n",
       "      <th>left_ESH</th>\n",
       "      <th>right_ESH</th>\n",
       "      <th>left_NSH</th>\n",
       "      <th>right_NSH</th>\n",
       "      <th>left_SHK</th>\n",
       "      <th>right_SHK</th>\n",
       "    </tr>\n",
       "  </thead>\n",
       "  <tbody>\n",
       "    <tr>\n",
       "      <th>0</th>\n",
       "      <td>Bad</td>\n",
       "      <td>0.597514</td>\n",
       "      <td>0.330045</td>\n",
       "      <td>-0.046739</td>\n",
       "      <td>0.999786</td>\n",
       "      <td>0.595233</td>\n",
       "      <td>0.314657</td>\n",
       "      <td>-0.039935</td>\n",
       "      <td>0.999435</td>\n",
       "      <td>0.594381</td>\n",
       "      <td>...</td>\n",
       "      <td>0.995285</td>\n",
       "      <td>0</td>\n",
       "      <td>155.307020</td>\n",
       "      <td>172.507026</td>\n",
       "      <td>163.510284</td>\n",
       "      <td>178.116644</td>\n",
       "      <td>143.535033</td>\n",
       "      <td>161.939258</td>\n",
       "      <td>147.515758</td>\n",
       "      <td>146.922322</td>\n",
       "    </tr>\n",
       "    <tr>\n",
       "      <th>1</th>\n",
       "      <td>Bad</td>\n",
       "      <td>0.603381</td>\n",
       "      <td>0.325570</td>\n",
       "      <td>-0.049170</td>\n",
       "      <td>0.999806</td>\n",
       "      <td>0.601188</td>\n",
       "      <td>0.310604</td>\n",
       "      <td>-0.040726</td>\n",
       "      <td>0.999489</td>\n",
       "      <td>0.600242</td>\n",
       "      <td>...</td>\n",
       "      <td>0.994957</td>\n",
       "      <td>0</td>\n",
       "      <td>163.544608</td>\n",
       "      <td>169.504665</td>\n",
       "      <td>173.068362</td>\n",
       "      <td>179.864711</td>\n",
       "      <td>153.054688</td>\n",
       "      <td>159.226312</td>\n",
       "      <td>149.645177</td>\n",
       "      <td>148.347381</td>\n",
       "    </tr>\n",
       "    <tr>\n",
       "      <th>2</th>\n",
       "      <td>Bad</td>\n",
       "      <td>0.614878</td>\n",
       "      <td>0.315903</td>\n",
       "      <td>-0.031407</td>\n",
       "      <td>0.999825</td>\n",
       "      <td>0.613352</td>\n",
       "      <td>0.302009</td>\n",
       "      <td>-0.020730</td>\n",
       "      <td>0.999540</td>\n",
       "      <td>0.612598</td>\n",
       "      <td>...</td>\n",
       "      <td>0.995270</td>\n",
       "      <td>0</td>\n",
       "      <td>169.634487</td>\n",
       "      <td>163.841305</td>\n",
       "      <td>178.625314</td>\n",
       "      <td>173.993331</td>\n",
       "      <td>161.336623</td>\n",
       "      <td>153.260392</td>\n",
       "      <td>150.563715</td>\n",
       "      <td>147.488250</td>\n",
       "    </tr>\n",
       "    <tr>\n",
       "      <th>3</th>\n",
       "      <td>Bad</td>\n",
       "      <td>0.624886</td>\n",
       "      <td>0.308227</td>\n",
       "      <td>-0.035477</td>\n",
       "      <td>0.999842</td>\n",
       "      <td>0.623481</td>\n",
       "      <td>0.295145</td>\n",
       "      <td>-0.026631</td>\n",
       "      <td>0.999585</td>\n",
       "      <td>0.622720</td>\n",
       "      <td>...</td>\n",
       "      <td>0.995534</td>\n",
       "      <td>0</td>\n",
       "      <td>164.198492</td>\n",
       "      <td>163.581827</td>\n",
       "      <td>173.384369</td>\n",
       "      <td>173.911822</td>\n",
       "      <td>155.536213</td>\n",
       "      <td>153.985592</td>\n",
       "      <td>155.709640</td>\n",
       "      <td>150.075273</td>\n",
       "    </tr>\n",
       "    <tr>\n",
       "      <th>4</th>\n",
       "      <td>Bad</td>\n",
       "      <td>0.636889</td>\n",
       "      <td>0.295799</td>\n",
       "      <td>-0.043732</td>\n",
       "      <td>0.999856</td>\n",
       "      <td>0.634686</td>\n",
       "      <td>0.282637</td>\n",
       "      <td>-0.032385</td>\n",
       "      <td>0.999624</td>\n",
       "      <td>0.634024</td>\n",
       "      <td>...</td>\n",
       "      <td>0.995753</td>\n",
       "      <td>0</td>\n",
       "      <td>161.850092</td>\n",
       "      <td>166.930504</td>\n",
       "      <td>170.893832</td>\n",
       "      <td>176.967896</td>\n",
       "      <td>152.749715</td>\n",
       "      <td>157.711976</td>\n",
       "      <td>158.154844</td>\n",
       "      <td>151.350972</td>\n",
       "    </tr>\n",
       "  </tbody>\n",
       "</table>\n",
       "<p>5 rows × 142 columns</p>\n",
       "</div>"
      ],
      "text/plain": [
       "  class        x1        y1        z1        v1        x2        y2        z2  \\\n",
       "0   Bad  0.597514  0.330045 -0.046739  0.999786  0.595233  0.314657 -0.039935   \n",
       "1   Bad  0.603381  0.325570 -0.049170  0.999806  0.601188  0.310604 -0.040726   \n",
       "2   Bad  0.614878  0.315903 -0.031407  0.999825  0.613352  0.302009 -0.020730   \n",
       "3   Bad  0.624886  0.308227 -0.035477  0.999842  0.623481  0.295145 -0.026631   \n",
       "4   Bad  0.636889  0.295799 -0.043732  0.999856  0.634686  0.282637 -0.032385   \n",
       "\n",
       "         v2        x3  ...       v33  good_posture  left_EyeSH  right_EyeSH  \\\n",
       "0  0.999435  0.594381  ...  0.995285             0  155.307020   172.507026   \n",
       "1  0.999489  0.600242  ...  0.994957             0  163.544608   169.504665   \n",
       "2  0.999540  0.612598  ...  0.995270             0  169.634487   163.841305   \n",
       "3  0.999585  0.622720  ...  0.995534             0  164.198492   163.581827   \n",
       "4  0.999624  0.634024  ...  0.995753             0  161.850092   166.930504   \n",
       "\n",
       "     left_ESH   right_ESH    left_NSH   right_NSH    left_SHK   right_SHK  \n",
       "0  163.510284  178.116644  143.535033  161.939258  147.515758  146.922322  \n",
       "1  173.068362  179.864711  153.054688  159.226312  149.645177  148.347381  \n",
       "2  178.625314  173.993331  161.336623  153.260392  150.563715  147.488250  \n",
       "3  173.384369  173.911822  155.536213  153.985592  155.709640  150.075273  \n",
       "4  170.893832  176.967896  152.749715  157.711976  158.154844  151.350972  \n",
       "\n",
       "[5 rows x 142 columns]"
      ]
     },
     "execution_count": 7,
     "metadata": {},
     "output_type": "execute_result"
    }
   ],
   "source": [
    "df = pd.read_csv('model_df.csv')\n",
    "df.head()"
   ]
  },
  {
   "cell_type": "markdown",
   "metadata": {},
   "source": [
    "### Import Datasets"
   ]
  },
  {
   "cell_type": "code",
   "execution_count": 8,
   "metadata": {},
   "outputs": [
    {
     "data": {
      "text/plain": [
       "Index(['class', 'x1', 'y1', 'z1', 'v1', 'x2', 'y2', 'z2', 'v2', 'x3',\n",
       "       ...\n",
       "       'v33', 'good_posture', 'left_EyeSH', 'right_EyeSH', 'left_ESH',\n",
       "       'right_ESH', 'left_NSH', 'right_NSH', 'left_SHK', 'right_SHK'],\n",
       "      dtype='object', length=142)"
      ]
     },
     "execution_count": 8,
     "metadata": {},
     "output_type": "execute_result"
    }
   ],
   "source": [
    "df.columns"
   ]
  },
  {
   "cell_type": "code",
   "execution_count": 9,
   "metadata": {},
   "outputs": [],
   "source": [
    "X = df[['left_EyeSH', 'right_EyeSH','left_ESH', 'right_ESH', 'left_NSH', 'right_NSH','left_SHK','right_SHK']]\n",
    "y = df['good_posture']\n",
    "\n",
    "# commentary / domain knowledge on why these angles are good - straight line?"
   ]
  },
  {
   "cell_type": "markdown",
   "metadata": {},
   "source": [
    "\n",
    "Steps I took for this section:\n",
    "1. Train Test Split\n",
    "2. Create Pipeline for modelling\n",
    "3. Create Function for Classification Reports\n",
    "4. Run Different Models\n",
    "5. Evaluate best model\n"
   ]
  },
  {
   "cell_type": "markdown",
   "metadata": {},
   "source": [
    "#### 1. Train Test Split"
   ]
  },
  {
   "cell_type": "code",
   "execution_count": 10,
   "metadata": {},
   "outputs": [],
   "source": [
    "X_train, X_test, y_train, y_test = train_test_split(X, y, test_size=0.3, random_state=42, stratify=y)"
   ]
  },
  {
   "cell_type": "markdown",
   "metadata": {},
   "source": [
    "#### 2. Function to define modelling pipeline"
   ]
  },
  {
   "cell_type": "code",
   "execution_count": 11,
   "metadata": {},
   "outputs": [],
   "source": [
    "# Define pipeline with placeholders\n",
    "\n",
    "pipeline = ImbPipeline([\n",
    "    ('ss', StandardScaler()), \n",
    "    ('smotetomek', SMOTETomek(random_state=42)),\n",
    "    ('clf', LogisticRegression()) \n",
    "])"
   ]
  },
  {
   "cell_type": "markdown",
   "metadata": {},
   "source": [
    "#### 3. Function to define Classification Reports"
   ]
  },
  {
   "cell_type": "code",
   "execution_count": 12,
   "metadata": {},
   "outputs": [],
   "source": [
    "# Generate Classifcation Reports\n",
    "\n",
    "def report(model):\n",
    "    y_train_pred = model.predict(X_train)\n",
    "    y_test_pred = model.predict(X_test)\n",
    "\n",
    "    print(\"Classification Report for Train:\\n\", classification_report(y_train, y_train_pred))\n",
    "    print(\"======================================================\\n\")\n",
    "    print(\"Classification Report for Test:\\n\", classification_report(y_test, y_test_pred))"
   ]
  },
  {
   "cell_type": "code",
   "execution_count": 13,
   "metadata": {},
   "outputs": [],
   "source": [
    "def run_grid_search(pipeline, param_grid, X_train, y_train):\n",
    "    grid_search = GridSearchCV(pipeline, param_grid, cv=KFold(10), verbose=1, n_jobs=-1, scoring='roc_auc')\n",
    "    grid_search.fit(X_train, y_train)\n",
    "    return grid_search"
   ]
  },
  {
   "cell_type": "code",
   "execution_count": 14,
   "metadata": {},
   "outputs": [],
   "source": [
    "# Define parameter grid\n",
    "\n",
    "param_grid_logreg = {\n",
    "    'clf': [LogisticRegression(max_iter = 10000, solver='saga')],\n",
    "    'clf__C': [0.001, 0.005, 0.01, 0.05, 0.1, 0.5],\n",
    "    'clf__penalty': ['l1', 'l2']\n",
    "}"
   ]
  },
  {
   "cell_type": "markdown",
   "metadata": {},
   "source": [
    "#### 4. Evaluating different classification models"
   ]
  },
  {
   "cell_type": "markdown",
   "metadata": {},
   "source": [
    "#### 4.1 Baseline Model\n",
    "We begin with creating a baseline model so that we have something to evaluate our final model against. The baseline model will be using Logistic Regression and all 33 coordinates collected by Mediapipe will be used as features. "
   ]
  },
  {
   "cell_type": "code",
   "execution_count": 15,
   "metadata": {},
   "outputs": [
    {
     "name": "stdout",
     "output_type": "stream",
     "text": [
      "Baseline score using Logistic Regression is 0.9430505774591796\n"
     ]
    },
    {
     "name": "stderr",
     "output_type": "stream",
     "text": [
      "/Users/anushaagarwal/anaconda3/lib/python3.11/site-packages/sklearn/linear_model/_logistic.py:458: ConvergenceWarning: lbfgs failed to converge (status=1):\n",
      "STOP: TOTAL NO. of ITERATIONS REACHED LIMIT.\n",
      "\n",
      "Increase the number of iterations (max_iter) or scale the data as shown in:\n",
      "    https://scikit-learn.org/stable/modules/preprocessing.html\n",
      "Please also refer to the documentation for alternative solver options:\n",
      "    https://scikit-learn.org/stable/modules/linear_model.html#logistic-regression\n",
      "  n_iter_i = _check_optimize_result(\n"
     ]
    }
   ],
   "source": [
    "X = df.drop(columns = ['good_posture','class'])\n",
    "X_train, X_test, y_train, y_test = train_test_split(X, y, test_size=0.3, random_state=42, stratify=y)\n",
    "baseline_LR = LogisticRegression() \n",
    "baseline_LR.fit(X_train, y_train)\n",
    "score = baseline_LR.score(X_test, y_test)\n",
    "\n",
    "print(f\"Baseline score using Logistic Regression is {score}\")"
   ]
  },
  {
   "cell_type": "markdown",
   "metadata": {},
   "source": [
    "#### 4.2 Logistic Regression"
   ]
  },
  {
   "cell_type": "code",
   "execution_count": 16,
   "metadata": {},
   "outputs": [],
   "source": [
    "X = df[['left_EyeSH', 'right_EyeSH','left_ESH', 'right_ESH', 'left_NSH', 'right_NSH','left_SHK','right_SHK']]\n",
    "X_train, X_test, y_train, y_test = train_test_split(X, y, test_size=0.3, random_state=42, stratify=y)"
   ]
  },
  {
   "cell_type": "code",
   "execution_count": 17,
   "metadata": {},
   "outputs": [
    {
     "name": "stdout",
     "output_type": "stream",
     "text": [
      "CPU times: user 5 µs, sys: 1e+03 ns, total: 6 µs\n",
      "Wall time: 15 µs\n",
      "Fitting 10 folds for each of 12 candidates, totalling 120 fits\n",
      "Best parameters for Logistic Regression: {'clf': LogisticRegression(C=0.5, max_iter=10000, penalty='l1', solver='saga'), 'clf__C': 0.5, 'clf__penalty': 'l1'}\n"
     ]
    }
   ],
   "source": [
    "%time\n",
    "# Run grid search\n",
    "\n",
    "grid_search_logreg = run_grid_search(pipeline, param_grid_logreg, X_train, y_train)\n",
    "print(\"Best parameters for Logistic Regression:\", grid_search_logreg.best_params_)"
   ]
  },
  {
   "cell_type": "code",
   "execution_count": 18,
   "metadata": {},
   "outputs": [
    {
     "name": "stdout",
     "output_type": "stream",
     "text": [
      "Classification Report for Train:\n",
      "               precision    recall  f1-score   support\n",
      "\n",
      "           0       0.95      0.92      0.93      3006\n",
      "           1       0.91      0.95      0.93      2852\n",
      "\n",
      "    accuracy                           0.93      5858\n",
      "   macro avg       0.93      0.93      0.93      5858\n",
      "weighted avg       0.93      0.93      0.93      5858\n",
      "\n",
      "======================================================\n",
      "\n",
      "Classification Report for Test:\n",
      "               precision    recall  f1-score   support\n",
      "\n",
      "           0       0.94      0.91      0.92      1288\n",
      "           1       0.91      0.94      0.92      1223\n",
      "\n",
      "    accuracy                           0.92      2511\n",
      "   macro avg       0.92      0.92      0.92      2511\n",
      "weighted avg       0.92      0.92      0.92      2511\n",
      "\n"
     ]
    }
   ],
   "source": [
    "# Save the model\n",
    "LR = grid_search_logreg.best_estimator_\n",
    "\n",
    "# Generate Classifcation Reports\n",
    "report(LR)"
   ]
  },
  {
   "cell_type": "code",
   "execution_count": 19,
   "metadata": {},
   "outputs": [],
   "source": [
    "def cmplot(model):\n",
    "    y_train_pred = model.predict(X_train)\n",
    "    y_test_pred = model.predict(X_test)\n",
    "\n",
    "    cm_train = confusion_matrix(y_train, y_train_pred, labels=model.named_steps['clf'].classes_)\n",
    "    cm_test = confusion_matrix(y_test, y_test_pred, labels=model.named_steps['clf'].classes_)\n",
    "\n",
    "    fig, ax = plt.subplots(1, 2, figsize=(12, 5))\n",
    "\n",
    "    disp_train = ConfusionMatrixDisplay(confusion_matrix=cm_train, display_labels=model.named_steps['clf'].classes_)\n",
    "    disp_train.plot(ax=ax[0], cmap=plt.cm.Reds)\n",
    "    ax[0].set_title('Confusion Matrix for Train Set')\n",
    "    ax[0].set_xlabel('Predicted Good Pose')\n",
    "    ax[0].set_ylabel('Actual Good Pose')\n",
    "    ax[0].set_xticks(ticks=[0, 1])\n",
    "    ax[0].set_yticks(ticks=[0, 1])\n",
    "\n",
    "    disp_test = ConfusionMatrixDisplay(confusion_matrix=cm_test, display_labels=model.named_steps['clf'].classes_)\n",
    "    disp_test.plot(ax=ax[1], cmap=plt.cm.Blues)\n",
    "    ax[1].set_title('Confusion Matrix for Test Set')\n",
    "    ax[1].set_xlabel('Predicted Good Pose')\n",
    "    ax[1].set_ylabel('Actual Bad Pose')\n",
    "    ax[1].set_xticks(ticks=[0, 1])\n",
    "    ax[1].set_yticks(ticks=[0, 1])\n",
    "\n",
    "    plt.tight_layout()\n",
    "    plt.show()"
   ]
  },
  {
   "cell_type": "code",
   "execution_count": 20,
   "metadata": {},
   "outputs": [],
   "source": [
    "# Generate ROC_AUC scores\n",
    "\n",
    "def roc_auc(model):\n",
    "    y_train_prob = model.predict_proba(X_train)[:, 1]\n",
    "    roc_auc_train = roc_auc_score(y_train, y_train_prob)\n",
    "\n",
    "    y_test_prob = model.predict_proba(X_test)[:, 1]\n",
    "    roc_auc_test = roc_auc_score(y_test, y_test_prob)\n",
    "\n",
    "\n",
    "    print(\"ROC-AUC for Train:\", roc_auc_train)\n",
    "    print(\"ROC-AUC for Test:\", roc_auc_test)"
   ]
  },
  {
   "cell_type": "code",
   "execution_count": 21,
   "metadata": {},
   "outputs": [
    {
     "name": "stdout",
     "output_type": "stream",
     "text": [
      "ROC-AUC for Train: 0.9593025263171646\n",
      "ROC-AUC for Test: 0.9530961945729622\n"
     ]
    },
    {
     "data": {
      "image/png": "[encoded data removed]",
      "text/plain": [
       "<Figure size 1200x500 with 4 Axes>"
      ]
     },
     "metadata": {},
     "output_type": "display_data"
    }
   ],
   "source": [
    "# Results for Logistic Regression\n",
    "roc_auc(LR)\n",
    "cmplot(LR)"
   ]
  },
  {
   "cell_type": "markdown",
   "metadata": {},
   "source": [
    "#### 4.2 Random Forest"
   ]
  },
  {
   "cell_type": "code",
   "execution_count": 22,
   "metadata": {},
   "outputs": [],
   "source": [
    "param_grid_rf = {\n",
    "    'clf': [RandomForestClassifier()],\n",
    "    'clf__n_estimators': [100, 200],\n",
    "    'clf__max_depth': [None, 20],\n",
    "    'clf__min_samples_split': [2, 5],\n",
    "    'clf__min_samples_leaf': [1, 2],\n",
    "    'clf__bootstrap': [True, False]\n",
    "}"
   ]
  },
  {
   "cell_type": "code",
   "execution_count": 23,
   "metadata": {},
   "outputs": [
    {
     "name": "stdout",
     "output_type": "stream",
     "text": [
      "CPU times: user 3 µs, sys: 1 µs, total: 4 µs\n",
      "Wall time: 11.9 µs\n",
      "Fitting 10 folds for each of 32 candidates, totalling 320 fits\n",
      "Best parameters for Random Forest: {'clf': RandomForestClassifier(bootstrap=False, max_depth=20, n_estimators=200), 'clf__bootstrap': False, 'clf__max_depth': 20, 'clf__min_samples_leaf': 1, 'clf__min_samples_split': 2, 'clf__n_estimators': 200}\n"
     ]
    }
   ],
   "source": [
    "%time\n",
    "# Run grid search\n",
    "\n",
    "grid_search_rf = run_grid_search(pipeline, param_grid_rf, X_train, y_train)\n",
    "print(\"Best parameters for Random Forest:\", grid_search_rf.best_params_)"
   ]
  },
  {
   "cell_type": "code",
   "execution_count": 24,
   "metadata": {},
   "outputs": [],
   "source": [
    "# Save the model\n",
    "\n",
    "RF = grid_search_rf.best_estimator_"
   ]
  },
  {
   "cell_type": "code",
   "execution_count": 25,
   "metadata": {},
   "outputs": [
    {
     "name": "stdout",
     "output_type": "stream",
     "text": [
      "ROC-AUC for Train: 0.9998187356003283\n",
      "ROC-AUC for Test: 0.9991578975434605\n",
      "Classification Report for Train:\n",
      "               precision    recall  f1-score   support\n",
      "\n",
      "           0       1.00      1.00      1.00      3006\n",
      "           1       1.00      1.00      1.00      2852\n",
      "\n",
      "    accuracy                           1.00      5858\n",
      "   macro avg       1.00      1.00      1.00      5858\n",
      "weighted avg       1.00      1.00      1.00      5858\n",
      "\n",
      "======================================================\n",
      "\n",
      "Classification Report for Test:\n",
      "               precision    recall  f1-score   support\n",
      "\n",
      "           0       0.99      0.98      0.99      1288\n",
      "           1       0.98      0.99      0.99      1223\n",
      "\n",
      "    accuracy                           0.99      2511\n",
      "   macro avg       0.99      0.99      0.99      2511\n",
      "weighted avg       0.99      0.99      0.99      2511\n",
      "\n"
     ]
    }
   ],
   "source": [
    "roc_auc(RF)\n",
    "report(RF)"
   ]
  },
  {
   "cell_type": "markdown",
   "metadata": {},
   "source": [
    "#### 4.3 K-Nearest Neighbour (KNN)"
   ]
  },
  {
   "cell_type": "code",
   "execution_count": 26,
   "metadata": {},
   "outputs": [],
   "source": [
    "param_grid_knn = {\n",
    "    'clf': [KNeighborsClassifier()],\n",
    "    'clf__n_neighbors': [3, 5, 7, 9, 11, 13, 15],\n",
    "    'clf__weights': ['uniform', 'distance'],\n",
    "    'clf__metric': ['euclidean', 'manhattan', 'minkowski'],\n",
    "    'clf__p': [1, 2]  # This is used only when metric is 'minkowski'. p=1 is manhattan, p=2 is euclidean.\n",
    "}"
   ]
  },
  {
   "cell_type": "code",
   "execution_count": 27,
   "metadata": {},
   "outputs": [
    {
     "name": "stdout",
     "output_type": "stream",
     "text": [
      "CPU times: user 1e+03 ns, sys: 0 ns, total: 1e+03 ns\n",
      "Wall time: 2.15 µs\n",
      "Fitting 10 folds for each of 84 candidates, totalling 840 fits\n",
      "Best parameters for K-Nearest Neighbour: {'clf': KNeighborsClassifier(metric='manhattan', n_neighbors=15, p=1,\n",
      "                     weights='distance'), 'clf__metric': 'manhattan', 'clf__n_neighbors': 15, 'clf__p': 1, 'clf__weights': 'distance'}\n"
     ]
    }
   ],
   "source": [
    "%time\n",
    "# Run grid search\n",
    "\n",
    "grid_search_knn = run_grid_search(pipeline, param_grid_knn, X_train, y_train)\n",
    "print(\"Best parameters for K-Nearest Neighbour:\", grid_search_knn.best_params_)"
   ]
  },
  {
   "cell_type": "code",
   "execution_count": 28,
   "metadata": {},
   "outputs": [],
   "source": [
    "# Save the model\n",
    "\n",
    "KNN = grid_search_knn.best_estimator_"
   ]
  },
  {
   "cell_type": "code",
   "execution_count": 29,
   "metadata": {},
   "outputs": [
    {
     "name": "stdout",
     "output_type": "stream",
     "text": [
      "ROC-AUC for Train: 0.9996575339270034\n",
      "ROC-AUC for Test: 0.997121044372102\n",
      "Classification Report for Train:\n",
      "               precision    recall  f1-score   support\n",
      "\n",
      "           0       1.00      1.00      1.00      3006\n",
      "           1       1.00      1.00      1.00      2852\n",
      "\n",
      "    accuracy                           1.00      5858\n",
      "   macro avg       1.00      1.00      1.00      5858\n",
      "weighted avg       1.00      1.00      1.00      5858\n",
      "\n",
      "======================================================\n",
      "\n",
      "Classification Report for Test:\n",
      "               precision    recall  f1-score   support\n",
      "\n",
      "           0       0.98      0.98      0.98      1288\n",
      "           1       0.98      0.98      0.98      1223\n",
      "\n",
      "    accuracy                           0.98      2511\n",
      "   macro avg       0.98      0.98      0.98      2511\n",
      "weighted avg       0.98      0.98      0.98      2511\n",
      "\n"
     ]
    },
    {
     "data": {
      "image/png": "[encoded data removed]",
      "text/plain": [
       "<Figure size 1200x500 with 4 Axes>"
      ]
     },
     "metadata": {},
     "output_type": "display_data"
    }
   ],
   "source": [
    "roc_auc(KNN)\n",
    "report(KNN)\n",
    "cmplot(KNN)"
   ]
  },
  {
   "cell_type": "markdown",
   "metadata": {},
   "source": [
    "#### Saving and Loading the Trained Model using Pickle"
   ]
  },
  {
   "cell_type": "code",
   "execution_count": 30,
   "metadata": {},
   "outputs": [],
   "source": [
    "# Select the final model\n",
    "model = RF"
   ]
  },
  {
   "cell_type": "code",
   "execution_count": 31,
   "metadata": {},
   "outputs": [],
   "source": [
    "# save the model to disk\n",
    "filename = 'finalized_model.sav'\n",
    "pickle.dump(model, open(filename, 'wb'))\n",
    " \n"
   ]
  },
  {
   "cell_type": "code",
   "execution_count": 32,
   "metadata": {},
   "outputs": [
    {
     "name": "stdout",
     "output_type": "stream",
     "text": [
      "0.9864595778574273\n"
     ]
    }
   ],
   "source": [
    "# load the model from disk\n",
    "loaded_model = pickle.load(open(filename, 'rb'))\n",
    "result = loaded_model.score(X_test, y_test)\n",
    "print(result)"
   ]
  },
  {
   "cell_type": "code",
   "execution_count": null,
   "metadata": {},
   "outputs": [],
   "source": []
  }
 ],
 "metadata": {
  "kernelspec": {
   "display_name": "Python 3 (ipykernel)",
   "language": "python",
   "name": "python3"
  },
  "language_info": {
   "codemirror_mode": {
    "name": "ipython",
    "version": 3
   },
   "file_extension": ".py",
   "mimetype": "text/x-python",
   "name": "python",
   "nbconvert_exporter": "python",
   "pygments_lexer": "ipython3",
   "version": "3.11.4"
  }
 },
 "nbformat": 4,
 "nbformat_minor": 2
}
